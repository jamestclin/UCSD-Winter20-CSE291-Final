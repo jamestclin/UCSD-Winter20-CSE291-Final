{
  "nbformat": 4,
  "nbformat_minor": 0,
  "metadata": {
    "colab": {
      "name": "WI20_CSE291_Final_Line_Search_With_RL.ipynb",
      "provenance": [],
      "collapsed_sections": [],
      "mount_file_id": "194M7ql6BvRDWGT-gufErXkfcQ7k3b1u1",
      "authorship_tag": "ABX9TyNPIHoQ9i0LdbtFQLauCD7y",
      "include_colab_link": true
    },
    "kernelspec": {
      "name": "python3",
      "display_name": "Python 3"
    }
  },
  "cells": [
    {
      "cell_type": "markdown",
      "metadata": {
        "id": "view-in-github",
        "colab_type": "text"
      },
      "source": [
        "<a href=\"https://colab.research.google.com/github/k2973363/UCSD-Winter20-CSE291-Final/blob/master/WI20_CSE291_Final_Line_Search_With_RL.ipynb\" target=\"_parent\"><img src=\"https://colab.research.google.com/assets/colab-badge.svg\" alt=\"Open In Colab\"/></a>"
      ]
    },
    {
      "cell_type": "code",
      "metadata": {
        "id": "kabbEkuxTRiL",
        "colab_type": "code",
        "colab": {}
      },
      "source": [
        "import random \n",
        "import statistics\n",
        "import numpy as np"
      ],
      "execution_count": 0,
      "outputs": []
    },
    {
      "cell_type": "code",
      "metadata": {
        "id": "3YV729_cUXcZ",
        "colab_type": "code",
        "colab": {}
      },
      "source": [
        "N = 11 # number of states\n",
        "N_half = int(N/2)"
      ],
      "execution_count": 0,
      "outputs": []
    },
    {
      "cell_type": "code",
      "metadata": {
        "id": "lkVsSh7QTy5B",
        "colab_type": "code",
        "colab": {}
      },
      "source": [
        "S = [(\"s\"+str(i-N_half),i-N_half) for i in range(N)]\n",
        "S.append(\"Terminal\")\n",
        "R = {}\n",
        "for i in range(N):\n",
        "      R[S[i]]=0\n",
        "R[S[N_half]]=1\n",
        "\n",
        "A = [(\"a\"+str(i+1),i+1) for i in range(N_half)]"
      ],
      "execution_count": 0,
      "outputs": []
    },
    {
      "cell_type": "code",
      "metadata": {
        "id": "88eQZPUxZrKe",
        "colab_type": "code",
        "outputId": "6fa35dde-13b2-484f-86a3-754243305e66",
        "colab": {
          "base_uri": "https://localhost:8080/",
          "height": 202
        }
      },
      "source": [
        "R"
      ],
      "execution_count": 0,
      "outputs": [
        {
          "output_type": "execute_result",
          "data": {
            "text/plain": [
              "{('s-1', -1): 0,\n",
              " ('s-2', -2): 0,\n",
              " ('s-3', -3): 0,\n",
              " ('s-4', -4): 0,\n",
              " ('s-5', -5): 0,\n",
              " ('s0', 0): 1,\n",
              " ('s1', 1): 0,\n",
              " ('s2', 2): 0,\n",
              " ('s3', 3): 0,\n",
              " ('s4', 4): 0,\n",
              " ('s5', 5): 0}"
            ]
          },
          "metadata": {
            "tags": []
          },
          "execution_count": 62
        }
      ]
    },
    {
      "cell_type": "code",
      "metadata": {
        "id": "FXUPOVC6X8oM",
        "colab_type": "code",
        "outputId": "3c37544d-4e2e-4ec5-ec4c-61cb47f783ea",
        "colab": {
          "base_uri": "https://localhost:8080/",
          "height": 218
        }
      },
      "source": [
        "S"
      ],
      "execution_count": 0,
      "outputs": [
        {
          "output_type": "execute_result",
          "data": {
            "text/plain": [
              "[('s-5', -5),\n",
              " ('s-4', -4),\n",
              " ('s-3', -3),\n",
              " ('s-2', -2),\n",
              " ('s-1', -1),\n",
              " ('s0', 0),\n",
              " ('s1', 1),\n",
              " ('s2', 2),\n",
              " ('s3', 3),\n",
              " ('s4', 4),\n",
              " ('s5', 5),\n",
              " 'Terminal']"
            ]
          },
          "metadata": {
            "tags": []
          },
          "execution_count": 63
        }
      ]
    },
    {
      "cell_type": "code",
      "metadata": {
        "id": "fIgQWGPtY4r9",
        "colab_type": "code",
        "outputId": "a2d83f57-6f9f-449f-9b15-c5631b31c4ce",
        "colab": {
          "base_uri": "https://localhost:8080/",
          "height": 34
        }
      },
      "source": [
        "A"
      ],
      "execution_count": 0,
      "outputs": [
        {
          "output_type": "execute_result",
          "data": {
            "text/plain": [
              "[('a1', 1), ('a2', 2), ('a3', 3), ('a4', 4), ('a5', 5)]"
            ]
          },
          "metadata": {
            "tags": []
          },
          "execution_count": 64
        }
      ]
    },
    {
      "cell_type": "code",
      "metadata": {
        "id": "o8RdOj7vTyKX",
        "colab_type": "code",
        "colab": {}
      },
      "source": [
        "def terminal(s,a):\n",
        "  if abs(s[1]) != a[1]:\n",
        "    return True\n",
        "  else:\n",
        "    return False\n",
        "\n",
        "def terminal_state(s):\n",
        "  if s == S[-1]:\n",
        "    return True\n",
        "  else:\n",
        "    return False\n",
        "\n",
        "def step(s,a):\n",
        "  if abs(s[1]) == a[1]:\n",
        "    return S[N_half]\n",
        "  else:\n",
        "    return S[-1]"
      ],
      "execution_count": 0,
      "outputs": []
    },
    {
      "cell_type": "code",
      "metadata": {
        "id": "SlLTgqWWYSBA",
        "colab_type": "code",
        "colab": {}
      },
      "source": [
        "def q_max(Q,s):\n",
        "\tq = -10000000000\n",
        "\tfor a in A:\n",
        "\t\tif Q[(s,a)]>q:\n",
        "\t\t\tq = Q[(s,a)]\n",
        "\treturn q\n",
        "\n",
        "def q_a_max(Q,s):\n",
        "  q = -10000000000\n",
        "  for a in A:\n",
        "    if Q[(s,a)]>q:\n",
        "      q = Q[(s,a)]\n",
        "      ret_a = a\n",
        "  return ret_a\n",
        "\n",
        "def e_greedy(s,Q,eps):\n",
        "  r = random.random()\n",
        "  if r<eps:\n",
        "    # Return actions other than the best one\n",
        "    while True:\n",
        "      ret_a = random.choice(A)\n",
        "      best_a = q_a_max(Q,s)\n",
        "      if ret_a != best_a:\n",
        "        return ret_a\n",
        "  else:\n",
        "    # Return current best action\n",
        "    return q_a_max(Q,s)"
      ],
      "execution_count": 0,
      "outputs": []
    },
    {
      "cell_type": "code",
      "metadata": {
        "id": "80GSOPSRU3x6",
        "colab_type": "code",
        "colab": {}
      },
      "source": [
        "#fixed alpha\n",
        "def q_learning_fixed_alpha(num,gamma,alpha):\n",
        "  Q = {}\n",
        "  for i in range(len(S)):\n",
        "      for a in A:\n",
        "        Q[(S[i],a)] = 0\n",
        "\n",
        "  print(Q)\n",
        "  print(len(Q))\n",
        "\n",
        "  for e in range(num):\n",
        "    traj=[]\n",
        "    i0=random.randint(0,N-1) #unlike scipy, randint returns lb<=i<=ub (not ub-1)\n",
        "    state = S[i0]\n",
        "    for t in range(2):\n",
        "      if terminal_state(state):\n",
        "        break\n",
        "      reward = R[state]\n",
        "      action = e_greedy(state, Q, 0.1)\n",
        "\n",
        "      next_state = step(state,action)\n",
        "\n",
        "      next_q = q_max(Q,next_state)\n",
        "      Q[(state,action)] = Q[(state,action)]+alpha*(reward+gamma*next_q-Q[(state,action)])\n",
        "      state = next_state\n",
        "  return Q"
      ],
      "execution_count": 0,
      "outputs": []
    },
    {
      "cell_type": "code",
      "metadata": {
        "id": "uGAmXn5fdkYL",
        "colab_type": "code",
        "outputId": "eaa031ab-23a4-4e58-9869-94bea4a7cf94",
        "colab": {
          "base_uri": "https://localhost:8080/",
          "height": 87
        }
      },
      "source": [
        "print(q_learning_fixed_alpha(1000000,0.9,0.2))"
      ],
      "execution_count": 0,
      "outputs": [
        {
          "output_type": "stream",
          "text": [
            "{(('s-5', -5), ('a1', 1)): 0, (('s-5', -5), ('a2', 2)): 0, (('s-5', -5), ('a3', 3)): 0, (('s-5', -5), ('a4', 4)): 0, (('s-5', -5), ('a5', 5)): 0, (('s-4', -4), ('a1', 1)): 0, (('s-4', -4), ('a2', 2)): 0, (('s-4', -4), ('a3', 3)): 0, (('s-4', -4), ('a4', 4)): 0, (('s-4', -4), ('a5', 5)): 0, (('s-3', -3), ('a1', 1)): 0, (('s-3', -3), ('a2', 2)): 0, (('s-3', -3), ('a3', 3)): 0, (('s-3', -3), ('a4', 4)): 0, (('s-3', -3), ('a5', 5)): 0, (('s-2', -2), ('a1', 1)): 0, (('s-2', -2), ('a2', 2)): 0, (('s-2', -2), ('a3', 3)): 0, (('s-2', -2), ('a4', 4)): 0, (('s-2', -2), ('a5', 5)): 0, (('s-1', -1), ('a1', 1)): 0, (('s-1', -1), ('a2', 2)): 0, (('s-1', -1), ('a3', 3)): 0, (('s-1', -1), ('a4', 4)): 0, (('s-1', -1), ('a5', 5)): 0, (('s0', 0), ('a1', 1)): 0, (('s0', 0), ('a2', 2)): 0, (('s0', 0), ('a3', 3)): 0, (('s0', 0), ('a4', 4)): 0, (('s0', 0), ('a5', 5)): 0, (('s1', 1), ('a1', 1)): 0, (('s1', 1), ('a2', 2)): 0, (('s1', 1), ('a3', 3)): 0, (('s1', 1), ('a4', 4)): 0, (('s1', 1), ('a5', 5)): 0, (('s2', 2), ('a1', 1)): 0, (('s2', 2), ('a2', 2)): 0, (('s2', 2), ('a3', 3)): 0, (('s2', 2), ('a4', 4)): 0, (('s2', 2), ('a5', 5)): 0, (('s3', 3), ('a1', 1)): 0, (('s3', 3), ('a2', 2)): 0, (('s3', 3), ('a3', 3)): 0, (('s3', 3), ('a4', 4)): 0, (('s3', 3), ('a5', 5)): 0, (('s4', 4), ('a1', 1)): 0, (('s4', 4), ('a2', 2)): 0, (('s4', 4), ('a3', 3)): 0, (('s4', 4), ('a4', 4)): 0, (('s4', 4), ('a5', 5)): 0, (('s5', 5), ('a1', 1)): 0, (('s5', 5), ('a2', 2)): 0, (('s5', 5), ('a3', 3)): 0, (('s5', 5), ('a4', 4)): 0, (('s5', 5), ('a5', 5)): 0, ('Terminal', ('a1', 1)): 0, ('Terminal', ('a2', 2)): 0, ('Terminal', ('a3', 3)): 0, ('Terminal', ('a4', 4)): 0, ('Terminal', ('a5', 5)): 0}\n",
            "60\n",
            "{(('s-5', -5), ('a1', 1)): 0.0, (('s-5', -5), ('a2', 2)): 0.0, (('s-5', -5), ('a3', 3)): 0.0, (('s-5', -5), ('a4', 4)): 0.0, (('s-5', -5), ('a5', 5)): 0.8999999999999996, (('s-4', -4), ('a1', 1)): 0.0, (('s-4', -4), ('a2', 2)): 0.0, (('s-4', -4), ('a3', 3)): 0.0, (('s-4', -4), ('a4', 4)): 0.8999999999999996, (('s-4', -4), ('a5', 5)): 0.0, (('s-3', -3), ('a1', 1)): 0.0, (('s-3', -3), ('a2', 2)): 0.0, (('s-3', -3), ('a3', 3)): 0.8999999999999996, (('s-3', -3), ('a4', 4)): 0.0, (('s-3', -3), ('a5', 5)): 0.0, (('s-2', -2), ('a1', 1)): 0.0, (('s-2', -2), ('a2', 2)): 0.8999999999999996, (('s-2', -2), ('a3', 3)): 0.0, (('s-2', -2), ('a4', 4)): 0.0, (('s-2', -2), ('a5', 5)): 0.0, (('s-1', -1), ('a1', 1)): 0.8999999999999996, (('s-1', -1), ('a2', 2)): 0.0, (('s-1', -1), ('a3', 3)): 0.0, (('s-1', -1), ('a4', 4)): 0.0, (('s-1', -1), ('a5', 5)): 0.0, (('s0', 0), ('a1', 1)): 0.9999999999999998, (('s0', 0), ('a2', 2)): 0.9999999999999998, (('s0', 0), ('a3', 3)): 0.9999999999999998, (('s0', 0), ('a4', 4)): 0.9999999999999998, (('s0', 0), ('a5', 5)): 0.9999999999999998, (('s1', 1), ('a1', 1)): 0.8999999999999996, (('s1', 1), ('a2', 2)): 0.0, (('s1', 1), ('a3', 3)): 0.0, (('s1', 1), ('a4', 4)): 0.0, (('s1', 1), ('a5', 5)): 0.0, (('s2', 2), ('a1', 1)): 0.0, (('s2', 2), ('a2', 2)): 0.8999999999999996, (('s2', 2), ('a3', 3)): 0.0, (('s2', 2), ('a4', 4)): 0.0, (('s2', 2), ('a5', 5)): 0.0, (('s3', 3), ('a1', 1)): 0.0, (('s3', 3), ('a2', 2)): 0.0, (('s3', 3), ('a3', 3)): 0.8999999999999996, (('s3', 3), ('a4', 4)): 0.0, (('s3', 3), ('a5', 5)): 0.0, (('s4', 4), ('a1', 1)): 0.0, (('s4', 4), ('a2', 2)): 0.0, (('s4', 4), ('a3', 3)): 0.0, (('s4', 4), ('a4', 4)): 0.8999999999999996, (('s4', 4), ('a5', 5)): 0.0, (('s5', 5), ('a1', 1)): 0.0, (('s5', 5), ('a2', 2)): 0.0, (('s5', 5), ('a3', 3)): 0.0, (('s5', 5), ('a4', 4)): 0.0, (('s5', 5), ('a5', 5)): 0.8999999999999996, ('Terminal', ('a1', 1)): 0, ('Terminal', ('a2', 2)): 0, ('Terminal', ('a3', 3)): 0, ('Terminal', ('a4', 4)): 0, ('Terminal', ('a5', 5)): 0}\n"
          ],
          "name": "stdout"
        }
      ]
    },
    {
      "cell_type": "code",
      "metadata": {
        "id": "iUO0f23BiOd2",
        "colab_type": "code",
        "colab": {}
      },
      "source": [
        ""
      ],
      "execution_count": 0,
      "outputs": []
    }
  ]
}